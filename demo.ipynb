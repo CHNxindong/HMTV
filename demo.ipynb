{
 "cells": [
  {
   "cell_type": "markdown",
   "metadata": {},
   "source": [
    "# Demo Code of paper \"Human Motion Aware Text-to-Video Generation with Explicit Camera Control\"\n",
    "\n",
    "## Table of contents\n",
    "### 1. Text2Mesh Generation\n",
    "### 2. 2D skeleton projection with CPM module\n",
    "### 3. Human Motion Aware Text2Video Generation"
   ]
  },
  {
   "cell_type": "code",
   "execution_count": null,
   "metadata": {},
   "outputs": [],
   "source": [
    "# Text2Mesh Generation\n"
   ]
  }
 ],
 "metadata": {
  "language_info": {
   "name": "python"
  },
  "orig_nbformat": 4
 },
 "nbformat": 4,
 "nbformat_minor": 2
}
