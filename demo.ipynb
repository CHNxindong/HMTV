{
 "cells": [
  {
   "cell_type": "markdown",
   "metadata": {},
   "source": [
    "# Demo Code of paper \"Human Motion Aware Text-to-Video Generation with Explicit Camera Control\"\n",
    "\n",
    "## Table of contents\n",
    "### 1. Text2Mesh Generation\n",
    "### 2. 2D skeleton projection with CPM module\n",
    "### 3. Human Motion Aware Text2Video Generation"
   ]
  },
  {
   "cell_type": "code",
   "execution_count": 1,
   "metadata": {},
   "outputs": [
    {
     "name": "stdout",
     "output_type": "stream",
     "text": [
      "root dir : /database/jasper/wacv2024/git-repo/HMTV/text2mesh\n"
     ]
    }
   ],
   "source": [
    "import os\n",
    "import subprocess\n",
    "\n",
    "os.environ[\"CUDA_VISIBLE_DEVICES\"] = \"0\"\n",
    "\n",
    "root_dir = os.getcwd()\n",
    "os.chdir(os.path.join(root_dir, \"text2mesh\"))\n",
    "print(f'root dir : {os.getcwd()}')"
   ]
  },
  {
   "cell_type": "code",
   "execution_count": 2,
   "metadata": {},
   "outputs": [
    {
     "name": "stderr",
     "output_type": "stream",
     "text": [
      "/home/jasper/miniconda3/envs/hmtv/lib/python3.8/site-packages/tqdm/auto.py:22: TqdmWarning: IProgress not found. Please update jupyter and ipywidgets. See https://ipywidgets.readthedocs.io/en/stable/user_install.html\n",
      "  from .autonotebook import tqdm as notebook_tqdm\n"
     ]
    },
    {
     "name": "stdout",
     "output_type": "stream",
     "text": [
      "cuda\n",
      "loading checkpoint from ./pretrained/VQVAE/net_last.pth\n",
      "loading transformer checkpoint from ./pretrained/VQTransformer_corruption05/net_best_fid.pth\n"
     ]
    }
   ],
   "source": [
    "from text2mesh.text2mesh import predict"
   ]
  },
  {
   "cell_type": "code",
   "execution_count": 3,
   "metadata": {},
   "outputs": [
    {
     "name": "stdout",
     "output_type": "stream",
     "text": [
      "prompt text instruction: a man is jumping on the beach\n",
      "./body_models/\n",
      "WARNING: You are using a SMPL model, with only 10 shape coefficients.\n",
      "Running SMPLify, it may take a few minutes.\n"
     ]
    },
    {
     "name": "stderr",
     "output_type": "stream",
     "text": [
      "/database/jasper/wacv2024/git-repo/HMTV/text2mesh/visualize/simplify_loc2rot.py:110: UserWarning: To copy construct from a tensor, it is recommended to use sourceTensor.clone().detach() or sourceTensor.clone().detach().requires_grad_(True), rather than torch.tensor(sourceTensor).\n",
      "  root_loc = torch.tensor(keypoints_3d[:, 0]).clone().detach()  # [bs, 3]\n",
      "/database/jasper/wacv2024/git-repo/HMTV/text2mesh/text2mesh.py:122: UserWarning: To copy construct from a tensor, it is recommended to use sourceTensor.clone().detach() or sourceTensor.clone().detach().requires_grad_(True), rather than torch.tensor(sourceTensor).\n",
      "  torch.tensor(motion_tensor).clone().detach(),\n"
     ]
    }
   ],
   "source": [
    "## text2mesh\n",
    "text_prompt = 'a man is jumping on the beach'\n",
    "\n",
    "vertices_3D = predict(text_prompt)"
   ]
  },
  {
   "cell_type": "code",
   "execution_count": 4,
   "metadata": {},
   "outputs": [
    {
     "data": {
      "text/plain": [
       "torch.Size([1, 6890, 3, 56])"
      ]
     },
     "execution_count": 4,
     "metadata": {},
     "output_type": "execute_result"
    }
   ],
   "source": [
    "vertices_3D.shape"
   ]
  },
  {
   "cell_type": "code",
   "execution_count": 5,
   "metadata": {},
   "outputs": [
    {
     "name": "stdout",
     "output_type": "stream",
     "text": [
      "root dir : /database/jasper/wacv2024/git-repo/HMTV/CPM\n"
     ]
    }
   ],
   "source": [
    "os.chdir(os.path.join(root_dir, 'CPM'))\n",
    "print(f'root dir : {os.getcwd()}')"
   ]
  },
  {
   "cell_type": "code",
   "execution_count": 6,
   "metadata": {},
   "outputs": [],
   "source": [
    "## 2D skeleton projection with CPM module\n",
    "from CPM.mesh2skeleton2D import mesh2skeletons"
   ]
  },
  {
   "cell_type": "code",
   "execution_count": 7,
   "metadata": {},
   "outputs": [
    {
     "name": "stderr",
     "output_type": "stream",
     "text": [
      "/home/jasper/miniconda3/envs/hmtv/lib/python3.8/site-packages/smplpytorch/pytorch/smpl_layer.py:41: UserWarning: The given NumPy array is not writable, and PyTorch does not support non-writable tensors. This means writing to this tensor will result in undefined behavior. You may want to copy the array to protect its data or make it writable before converting it to a tensor. This type of warning will be suppressed for the rest of this program. (Triggered internally at ../torch/csrc/utils/tensor_numpy.cpp:199.)\n",
      "  torch.Tensor(smpl_data['betas'].r).unsqueeze(0))\n"
     ]
    },
    {
     "name": "stdout",
     "output_type": "stream",
     "text": [
      "making video\n"
     ]
    },
    {
     "name": "stderr",
     "output_type": "stream",
     "text": [
      "100%|██████████| 56/56 [00:00<00:00, 692.34it/s]"
     ]
    },
    {
     "name": "stdout",
     "output_type": "stream",
     "text": [
      "video saved\n"
     ]
    },
    {
     "name": "stderr",
     "output_type": "stream",
     "text": [
      "\n"
     ]
    }
   ],
   "source": [
    "skeletons = mesh2skeletons(vertices_3D, 'sample_default', (512, 512), None, root_dir, False)"
   ]
  },
  {
   "cell_type": "code",
   "execution_count": 8,
   "metadata": {},
   "outputs": [
    {
     "name": "stdout",
     "output_type": "stream",
     "text": [
      "root dir : /database/jasper/wacv2024/git-repo/HMTV/text2video\n"
     ]
    }
   ],
   "source": [
    "os.chdir(os.path.join(root_dir, 'text2video'))\n",
    "print(f'root dir : {os.getcwd()}')"
   ]
  },
  {
   "cell_type": "code",
   "execution_count": 9,
   "metadata": {},
   "outputs": [
    {
     "name": "stderr",
     "output_type": "stream",
     "text": [
      "Traceback (most recent call last):\n",
      "  File \"make_video.py\", line 2, in <module>\n",
      "    from model import Model\n",
      "ModuleNotFoundError: No module named 'model'\n"
     ]
    },
    {
     "data": {
      "text/plain": [
       "CompletedProcess(args=['python3', 'make_video.py', '--spath', '../sample.mp4', '--out', '../', '--text_prompt', 'a man is jumping on the beach'], returncode=1)"
      ]
     },
     "execution_count": 9,
     "metadata": {},
     "output_type": "execute_result"
    }
   ],
   "source": [
    "\n",
    "subprocess.run([\"python3\", \"make_video.py\", \"--spath\", \"../sample.mp4\", \"--out\", \"../\", \"--text_prompt\", f\"{text_prompt}\"])"
   ]
  },
  {
   "cell_type": "code",
   "execution_count": null,
   "metadata": {},
   "outputs": [],
   "source": []
  }
 ],
 "metadata": {
  "kernelspec": {
   "display_name": "hmtv",
   "language": "python",
   "name": "python3"
  },
  "language_info": {
   "codemirror_mode": {
    "name": "ipython",
    "version": 3
   },
   "file_extension": ".py",
   "mimetype": "text/x-python",
   "name": "python",
   "nbconvert_exporter": "python",
   "pygments_lexer": "ipython3",
   "version": "3.8.17"
  },
  "orig_nbformat": 4
 },
 "nbformat": 4,
 "nbformat_minor": 2
}
